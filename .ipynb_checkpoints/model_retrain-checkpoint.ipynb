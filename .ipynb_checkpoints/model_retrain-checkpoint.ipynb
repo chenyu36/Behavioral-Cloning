{
 "cells": [
  {
   "cell_type": "code",
   "execution_count": null,
   "metadata": {
    "collapsed": false
   },
   "outputs": [],
   "source": [
    "import matplotlib.pyplot as plt\n",
    "import numpy as np\n",
    "import pandas as pd\n",
    "from resizeimage import resizeimage\n",
    "from PIL import Image\n",
    "from keras.models import model_from_json\n",
    "from keras.preprocessing.image import ImageDataGenerator, array_to_img, img_to_array\n",
    "from keras.models import Sequential\n",
    "from keras.layers import Convolution2D, MaxPooling2D\n",
    "from keras.layers.core import Dense, Activation, Flatten, Dropout, Lambda\n",
    "from keras.layers.convolutional import Convolution2D\n",
    "from keras.optimizers import Adam\n",
    "from keras import backend as K\n",
    "from keras.layers.advanced_activations import LeakyReLU, ELU\n",
    "import random\n",
    "from sklearn.utils import shuffle\n",
    "from sklearn.model_selection import train_test_split\n",
    "import cv2\n",
    "import math\n",
    "\n",
    "n_channels = 3 # color image has 3 channels"
   ]
  },
  {
   "cell_type": "code",
   "execution_count": null,
   "metadata": {
    "collapsed": false
   },
   "outputs": [],
   "source": [
    "def shift_image_pixel(image, steer, trans_range):\n",
    "    # Shape of image\n",
    "    rows, cols = image.shape[:2]\n",
    "#     print('height is {}'.format(rows))\n",
    "#     print('width is {}'.format(cols))\n",
    "    # Translation\n",
    "    tr_x = trans_range*np.random.uniform()-trans_range/2\n",
    "    steer_angle = steer + tr_x/trans_range*2*.2\n",
    "#     print('pixel shift is {}'.format(tr_x))\n",
    "#     print('angle shift is {}'.format(tr_x/trans_range*2*.2))\n",
    "    print()\n",
    "    #tr_y = 40*np.random.uniform()-40/2\n",
    "    tr_y = 0\n",
    "    Trans_M = np.float32([[1,0,tr_x],[0,1,tr_y]])\n",
    "    image_tr = cv2.warpAffine(image,Trans_M,(cols, rows))\n",
    "    \n",
    "    return image_tr, steer_angle"
   ]
  },
  {
   "cell_type": "code",
   "execution_count": null,
   "metadata": {
    "collapsed": false
   },
   "outputs": [],
   "source": [
    "# test shift_image_pixel\n",
    "img = cv2.imread('test.jpg')\n",
    "processed_img, shifted_angle = shift_image_pixel(img, 10, 100)\n",
    "#show before image\n",
    "plt.axis(\"off\")\n",
    "plt.imshow(cv2.cvtColor(img, cv2.COLOR_BGR2RGB))\n",
    "plt.show()\n",
    "\n",
    "#show after image\n",
    "plt.axis(\"off\")\n",
    "plt.imshow(cv2.cvtColor(processed_img, cv2.COLOR_BGR2RGB))\n",
    "plt.show() "
   ]
  },
  {
   "cell_type": "code",
   "execution_count": null,
   "metadata": {
    "collapsed": false
   },
   "outputs": [],
   "source": [
    "def add_random_brightness(image_data):\n",
    "    # Convert to HSV from RGB\n",
    "    hsv = cv2.cvtColor(image_data, cv2.COLOR_RGB2HSV)\n",
    "    # Generate random number to apply to brightness channel\n",
    "    rand = random.uniform(0.25,1.0)\n",
    "    hsv[:,:,2] = rand*hsv[:,:,2]\n",
    "    # Convert back to RGB colorspace\n",
    "    processed_img = cv2.cvtColor(hsv, cv2.COLOR_HSV2RGB)\n",
    "    return processed_img "
   ]
  },
  {
   "cell_type": "code",
   "execution_count": null,
   "metadata": {
    "collapsed": false
   },
   "outputs": [],
   "source": [
    "# test add_random_brightness\n",
    "img = cv2.imread('test.jpg')\n",
    "processed_img = add_random_brightness(img)\n",
    "#show before image\n",
    "plt.axis(\"off\")\n",
    "plt.imshow(cv2.cvtColor(img, cv2.COLOR_BGR2RGB))\n",
    "plt.show()\n",
    "\n",
    "#show after image\n",
    "plt.axis(\"off\")\n",
    "plt.imshow(cv2.cvtColor(processed_img, cv2.COLOR_BGR2RGB))\n",
    "plt.show() "
   ]
  },
  {
   "cell_type": "code",
   "execution_count": null,
   "metadata": {
    "collapsed": true
   },
   "outputs": [],
   "source": [
    "# parameters for the model\n",
    "EPOCHS = 8 \n",
    "img_width, img_height = 320, 160\n",
    "RESIZE_IMAGE_W = 200\n",
    "RESIZE_IMAGE_H = 66\n",
    "batch_size = 128\n",
    "user_data = False\n",
    "CROP_PIXEL_FROM_TOP = 60\n",
    "CROP_PIXEL_FROM_BOTTOM = 25"
   ]
  },
  {
   "cell_type": "code",
   "execution_count": null,
   "metadata": {
    "collapsed": false
   },
   "outputs": [],
   "source": [
    "# Crop the sky and car hood\n",
    "def crop_image(image_data):\n",
    "    shape = image_data.shape\n",
    "    cropped_img = image_data[CROP_PIXEL_FROM_TOP:shape[0]-CROP_PIXEL_FROM_BOTTOM,:]\n",
    "    return cropped_img"
   ]
  },
  {
   "cell_type": "code",
   "execution_count": null,
   "metadata": {
    "collapsed": false
   },
   "outputs": [],
   "source": [
    "# test crop_image\n",
    "img = cv2.imread('test.jpg')\n",
    "processed_img = crop_image(img)\n",
    "#show before image\n",
    "plt.axis(\"off\")\n",
    "plt.imshow(cv2.cvtColor(img, cv2.COLOR_BGR2RGB))\n",
    "plt.show()\n",
    "\n",
    "#show after image\n",
    "plt.axis(\"off\")\n",
    "plt.imshow(cv2.cvtColor(processed_img, cv2.COLOR_BGR2RGB))\n",
    "plt.show() \n",
    "print('cropped image width is {}'.format(processed_img.shape[1]))\n",
    "print('cropped image height is {}'.format(processed_img.shape[0]))"
   ]
  },
  {
   "cell_type": "code",
   "execution_count": null,
   "metadata": {
    "collapsed": true
   },
   "outputs": [],
   "source": [
    "if (user_data == True):\n",
    "  csv_file_path = 'driving_log.csv'\n",
    "else:\n",
    "  csv_file_path = 'data//driving_log.csv'"
   ]
  },
  {
   "cell_type": "code",
   "execution_count": null,
   "metadata": {
    "collapsed": true
   },
   "outputs": [],
   "source": [
    "def flip_image(img, angle):\n",
    "    flipped_img = cv2.flip(img,1)\n",
    "    angle = -angle\n",
    "    return flipped_img, angle"
   ]
  },
  {
   "cell_type": "code",
   "execution_count": null,
   "metadata": {
    "collapsed": false
   },
   "outputs": [],
   "source": [
    "# test crop_image\n",
    "img = cv2.imread('test.jpg')\n",
    "steering_angle = 15.\n",
    "processed_img, angle = flip_image(img, steering_angle)\n",
    "#show before image\n",
    "plt.axis(\"off\")\n",
    "plt.imshow(cv2.cvtColor(img, cv2.COLOR_BGR2RGB))\n",
    "plt.show()\n",
    "\n",
    "#show after image\n",
    "plt.axis(\"off\")\n",
    "plt.imshow(cv2.cvtColor(processed_img, cv2.COLOR_BGR2RGB))\n",
    "plt.show() \n",
    "print('flipped image width is {}'.format(processed_img.shape[1]))\n",
    "print('flipped image height is {}'.format(processed_img.shape[0]))\n",
    "print('angle before flipping is {}'.format(steering_angle))\n",
    "print('angle after flipping is {}'.format(angle))"
   ]
  },
  {
   "cell_type": "code",
   "execution_count": null,
   "metadata": {
    "collapsed": false
   },
   "outputs": [],
   "source": [
    "# this is the output labels for each frame\n",
    "driving_log = pd.read_csv(csv_file_path)\n",
    "steering_angles = driving_log['steering']\n",
    "steering_angles = np.array(steering_angles)\n",
    "n_train_data = steering_angles.shape[0]\n",
    "print('number of train data is {}'.format(n_train_data))\n",
    "\n",
    "if user_data == True:\n",
    "  image_file_names = driving_log['center']\n",
    "else:\n",
    "  image_file_names = 'data//' + driving_log['center']"
   ]
  },
  {
   "cell_type": "code",
   "execution_count": null,
   "metadata": {
    "collapsed": false
   },
   "outputs": [],
   "source": [
    "# define the model with Keras\n",
    "nb_filters = 32\n",
    "nb_filters_2 = 64\n",
    "nb_filters_3 = 128\n",
    "kernel_size_w = 3\n",
    "kernel_size_h = 3\n",
    "dropout = 0.5\n",
    "learning_rate = 0.0001\n",
    "# define the split if valiation set is used\n",
    "split = 0.1\n",
    "n_val_data = int(n_train_data*split)\n",
    "n_split_train_data = n_train_data - n_val_data\n",
    "\n",
    "print('shape of steering_angles is {}'.format(steering_angles.shape))\n",
    "input_shape = (RESIZE_IMAGE_H, RESIZE_IMAGE_W, n_channels)\n",
    "model = Sequential()\n",
    "model.add(Lambda(lambda x: x/255 - 0.5, input_shape = input_shape))\n",
    "model.add(Convolution2D(nb_filters, kernel_size_w, kernel_size_h, border_mode='valid', subsample =(2,2)))\n",
    "model.add(Dropout(dropout))\n",
    "model.add(Activation('relu'))\n",
    "model.add(Convolution2D(nb_filters_2, kernel_size_w, kernel_size_h, border_mode='valid', subsample =(2,2)))\n",
    "model.add(Dropout(dropout))\n",
    "model.add(Activation('relu'))\n",
    "model.add(Convolution2D(nb_filters_3, kernel_size_w, kernel_size_h, border_mode='valid', subsample =(2,2)))\n",
    "model.add(Dropout(dropout))\n",
    "model.add(Activation('relu'))\n",
    "model.add(Flatten())\n",
    "model.add(Dense(512))\n",
    "# model.add(Dropout(dropout))\n",
    "model.add(ELU())   # add an advanced activation\n",
    "model.add(Dense(64))\n",
    "model.add(ELU())   # add an advanced activation\n",
    "model.add(Dense(16))\n",
    "model.add(ELU())   # add an advanced activation\n",
    "model.add(Dense(1))\n",
    "adam = Adam(lr = learning_rate)\n",
    "model.compile(loss='mse', optimizer=adam, metrics=['accuracy'])"
   ]
  },
  {
   "cell_type": "code",
   "execution_count": null,
   "metadata": {
    "collapsed": false
   },
   "outputs": [],
   "source": [
    "def select_image_and_process(index):\n",
    "    # pick a random image from one of the cameras: (left, center, right)\n",
    "    # and add/subtract angles if necessary\n",
    "    random_choice = np.random.randint(3)\n",
    "    if (random_choice == 0):\n",
    "        img_file = 'data/' + driving_log['left'].str.strip()\n",
    "    shift_ang = .20\n",
    "    if (random_choice == 1):\n",
    "        img_file = 'data/' + driving_log['center'].str.strip()\n",
    "        shift_ang = 0.\n",
    "    if (random_choice == 2):\n",
    "        img_file = 'data/' + driving_log['right'].str.strip()\n",
    "        shift_ang = -.20  \n",
    "#     print('random choice is {}'.format(random_choice))\n",
    "    \n",
    "#     print('file index is {}'.format(index))\n",
    "#     print('file name is {}'.format(img_file[index]))    \n",
    "    # create Numpy arrays of input data\n",
    "    # and labels, using each row in the csv file\n",
    "    x = cv2.imread(img_file[index])\n",
    "    x = cv2.cvtColor(x,cv2.COLOR_BGR2RGB)\n",
    "    y = np.array(steering_angles[index])\n",
    "#     print('steering angle is {}'.format(y))  \n",
    "    x = add_random_brightness(x)\n",
    "    x, y = shift_image_pixel(x, y, 100)\n",
    "    x = crop_image(x)\n",
    "        \n",
    "    x = cv2.resize(x, (RESIZE_IMAGE_W, RESIZE_IMAGE_H), interpolation=cv2.INTER_AREA)\n",
    "    y = np.add(y, shift_ang)\n",
    "    \n",
    "    # randomly fiip the image\n",
    "    should_flip = np.random.randint(2)\n",
    "    if should_flip==1:\n",
    "        x, y = flip_image(x, y)\n",
    "\n",
    "    return x, y # x: processed image, y: processed angle"
   ]
  },
  {
   "cell_type": "code",
   "execution_count": null,
   "metadata": {
    "collapsed": false
   },
   "outputs": [],
   "source": [
    "def data_generator_with_batch(path, batch_size):\n",
    "    x_batch = np.zeros((batch_size, RESIZE_IMAGE_H, RESIZE_IMAGE_W, n_channels), dtype = np.float32)\n",
    "    y_batch = np.zeros((batch_size,), dtype = np.float32)\n",
    "    pr_threshold = 1\n",
    "    epoch_i = 1\n",
    "    counter = 0\n",
    "    while 1:\n",
    "\n",
    "        for i in range(batch_size):\n",
    "            if (counter < (n_split_train_data*3)):\n",
    "                counter += 1\n",
    "            else:\n",
    "                # 1 epoch\n",
    "                counter = 0\n",
    "                epoch_i += 1\n",
    "                print('\\n pr_threshold is {}'.format(1 / epoch_i))\n",
    "\n",
    "            #start out as 1, i.e. chance of dropping small angles is high in early rounds\n",
    "            pr_threshold = 1 / epoch_i \n",
    "            keep_pr = 0\n",
    "            while keep_pr == 0:\n",
    "                random_pick = np.random.randint(n_train_data)\n",
    "                x_batch[i], y_batch[i] = select_image_and_process(random_pick)\n",
    "                # if the angle is too small, we may need to drop this training data so that\n",
    "                # it has less influence on the learning\n",
    "                if abs(y_batch[i]) < 0.1:\n",
    "                    pr_val = np.random.uniform()\n",
    "                    if pr_val > pr_threshold:\n",
    "                        keep_pr = 1\n",
    "                else:\n",
    "                    keep_pr = 1\n",
    "        yield x_batch, y_batch"
   ]
  },
  {
   "cell_type": "code",
   "execution_count": null,
   "metadata": {
    "collapsed": false,
    "scrolled": false
   },
   "outputs": [],
   "source": [
    "train_generator = data_generator_with_batch(csv_file_path, batch_size)\n",
    "# validation_generator = data_generator_with_batch(csv_file_path, batch_size, data_type='validation')\n",
    "#print(next(train_generator))\n",
    "# print(next(validation_generator))\n",
    "model.fit_generator(train_generator, samples_per_epoch=(3*n_split_train_data), nb_epoch=EPOCHS, initial_epoch=0)\n",
    "# model.fit_generator(train_generator, samples_per_epoch=(n_split_train_data*3), \n",
    "#     nb_epoch=EPOCHS, validation_data=validation_generator, nb_val_samples=n_val_data)"
   ]
  },
  {
   "cell_type": "code",
   "execution_count": null,
   "metadata": {
    "collapsed": false
   },
   "outputs": [],
   "source": [
    "# save the model and trained weights\n",
    "model_name = 'model.json'\n",
    "model_json = model.to_json()\n",
    "with open(model_name, \"w\") as json_file:\n",
    "    json_file.write(model_json)\n",
    "    print(\"model saved to disk as {}\".format(model_name))\n",
    "model_weight_name = 'model.h5'\n",
    "model.save_weights(model_weight_name)  # save the weights after training or during training\n",
    "print(\"model weight saved to disk as {}\".format(model_weight_name))"
   ]
  }
 ],
 "metadata": {
  "kernelspec": {
   "display_name": "Python 3",
   "language": "python",
   "name": "python3"
  },
  "language_info": {
   "codemirror_mode": {
    "name": "ipython",
    "version": 3
   },
   "file_extension": ".py",
   "mimetype": "text/x-python",
   "name": "python",
   "nbconvert_exporter": "python",
   "pygments_lexer": "ipython3",
   "version": "3.5.2"
  },
  "widgets": {
   "state": {},
   "version": "1.1.2"
  }
 },
 "nbformat": 4,
 "nbformat_minor": 2
}
